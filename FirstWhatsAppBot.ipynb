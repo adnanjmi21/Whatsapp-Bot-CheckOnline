{
 "cells": [
  {
   "cell_type": "code",
   "execution_count": 4,
   "metadata": {},
   "outputs": [
    {
     "name": "stdout",
     "output_type": "stream",
     "text": [
      "Enter the name of user or group : ProjectNPL\n",
      "Enter your message : hi\n",
      "Enter the count : 2\n",
      "Enter anything after scanning QR code\n"
     ]
    }
   ],
   "source": [
    "from selenium import webdriver\n",
    "\n",
    "driver = webdriver.Chrome('D:\\\\chrome\\\\chromedriver')\n",
    "driver.get('https://web.whatsapp.com/')\n",
    "\n",
    "name = input('Enter the name of user or group : ')\n",
    "msg = input('Enter your message : ')\n",
    "count = int(input('Enter the count : '))\n",
    "\n",
    "input('Enter anything after scanning QR code')\n",
    "\n",
    "\n",
    "search_bar = driver.find_element_by_css_selector(\n",
    "            '#side > div._2HS9r > div > label > input')\n",
    "search_bar.clear()\n",
    "search_bar.click()\n",
    "search_bar.send_keys(name)\n",
    "        # press enter to search the person.\n",
    "search_bar.send_keys(u'\\ue007')\n",
    "#user = driver.find_element_by_xpath('//span[@title = \"{}\"]'.format(name))\n",
    "#user.click()\n",
    "        \n",
    "_status = driver.find_element_by_css_selector('#main > header')\n",
    "status = _status.text\n",
    "\n",
    "if status.find('online') != -1:\n",
    "    status = 'online'\n",
    "\n",
    "\n",
    "\n",
    "msg_box = driver.find_element_by_class_name('_3u328')\n",
    "\n"
   ]
  },
  {
   "cell_type": "code",
   "execution_count": null,
   "metadata": {},
   "outputs": [],
   "source": []
  },
  {
   "cell_type": "code",
   "execution_count": null,
   "metadata": {},
   "outputs": [],
   "source": [
    "from selenium.webdriver.support import expected_conditions as EC\n",
    "from selenium.webdriver.common.keys import Keys \n",
    "from selenium.webdriver.support.ui import WebDriverWait \n",
    "from selenium.webdriver.common.by import By \n",
    "wait = WebDriverWait(driver, 600)\n",
    "msg_box = wait.until(EC.presence_of_element_located(( \n",
    "\tBy.XPATH, '/html/body/div[1]/div/div/div[4]/div/footer/div[1]/div[2]/div/div[2]'))) # driver.find_element_by_class_name('_3u328')\n",
    "\n",
    "while 1==1:\n",
    "    \n",
    "    \n",
    "    msg_box.send_keys(msg+Keys.ENTER)\n",
    "    #button = driver.find_element_by_class_name('hnQHL')\n",
    "    #button.click()\n",
    "    print('message send')\n",
    "    if input('Enter  1 to exit ') == 1:\n",
    "        break"
   ]
  },
  {
   "cell_type": "code",
   "execution_count": null,
   "metadata": {},
   "outputs": [],
   "source": [
    "from selenium.webdriver.common.keys import Keys \n",
    "\n",
    "while 1==1:\n",
    "    \n",
    "    \n",
    "    msg_box.send_keys(msg+Keys.ENTER)\n",
    "    #button = driver.find_element_by_class_name('hnQHL')\n",
    "    #button[1].click()\n",
    "    print('message send')\n",
    "    if input('Enter  1 to exit ') == '1':\n",
    "        break"
   ]
  },
  {
   "cell_type": "code",
   "execution_count": 1,
   "metadata": {},
   "outputs": [],
   "source": [
    "from selenium import webdriver\n",
    "\n",
    "driver = webdriver.Chrome('D:\\\\chrome\\\\chromedriver')\n",
    "driver.get('https://web.whatsapp.com/')"
   ]
  },
  {
   "cell_type": "code",
   "execution_count": 2,
   "metadata": {},
   "outputs": [
    {
     "name": "stdout",
     "output_type": "stream",
     "text": [
      "Enter the name of user or group : Ayaz Kanpur\n",
      "Enter your message : hi\n",
      "Enter the count : 2\n",
      "Enter anything after scanning QR code\n"
     ]
    }
   ],
   "source": [
    "name = input('Enter the name of user or group : ')\n",
    "msg = input('Enter your message : ')\n",
    "count = int(input('Enter the count : '))\n",
    "\n",
    "input('Enter anything after scanning QR code')\n",
    "\n",
    "\n",
    "search_bar = driver.find_element_by_css_selector(\n",
    "            '#side > div._2HS9r > div > label > input')\n",
    "search_bar.clear()\n",
    "search_bar.click()\n",
    "search_bar.send_keys(name)\n",
    "        # press enter to search the person.\n",
    "search_bar.send_keys(u'\\ue007')\n",
    "msg_box = driver.find_element_by_class_name('_3u328')"
   ]
  },
  {
   "cell_type": "code",
   "execution_count": 3,
   "metadata": {},
   "outputs": [
    {
     "name": "stdout",
     "output_type": "stream",
     "text": [
      "checking for online use : Ayaz Kanpur\n",
      "he is online\n",
      "he is online\n",
      "he is online\n",
      "he is online\n",
      "he is online\n",
      "done spying\n"
     ]
    }
   ],
   "source": [
    "from selenium.webdriver.support.ui import WebDriverWait \n",
    "from selenium.webdriver.common.keys import Keys \n",
    "import time \n",
    "\n",
    "print(\"checking for online use :\",name)\n",
    "i=0\n",
    "while True:\n",
    "    \n",
    "    _status = driver.find_element_by_css_selector('#main > header')\n",
    "    status = _status.text\n",
    "    \n",
    "    if status.find('online') != -1:\n",
    "        status = 'online'\n",
    "        print(\"he is online\")\n",
    "        i=i+1\n",
    "        if i==0:\n",
    "            msg_box.send_keys(\"Hi\"+Keys.ENTER)\n",
    "      \n",
    "        if i==1:\n",
    "            msg_box.send_keys(\"hmm online\"+Keys.ENTER)\n",
    "        if i==2:\n",
    "            msg_box.send_keys(\"fir online\"+Keys.ENTER)\n",
    "        if i==3:\n",
    "            msg_box.send_keys(\"kuch kaam bhi kar lo\"+Keys.ENTER)\n",
    "        if i==4:\n",
    "            msg_box.send_keys(\"hmmmmm........\"+Keys.ENTER)\n",
    "        if i==5:\n",
    "            msg_box.send_keys(\" You are talking to a bot,just testing :P \"+Keys.ENTER)\n",
    "        time.sleep(2)\n",
    "    time.sleep(1)\n",
    "    #print('user not online checking again')\n",
    "    if i == 5 :\n",
    "        break\n",
    "\n",
    "print(\"done spying\")\n",
    "    \n"
   ]
  },
  {
   "cell_type": "code",
   "execution_count": null,
   "metadata": {},
   "outputs": [],
   "source": [
    " msg_box.send_keys(\"Sorry bro   , had a lot of fun \"+Keys.ENTER)"
   ]
  },
  {
   "cell_type": "code",
   "execution_count": 8,
   "metadata": {},
   "outputs": [
    {
     "name": "stdout",
     "output_type": "stream",
     "text": [
      "registration\n",
      "registra-tion\n",
      "registratiOn\n"
     ]
    }
   ],
   "source": [
    "import re \n",
    "\n",
    "str = {'registration','registra-tion','registratiOn'}\n",
    "\n",
    "for each in str:\n",
    "    if re.match('registra-?ti[oO]n',each):\n",
    "        print(each)"
   ]
  },
  {
   "cell_type": "code",
   "execution_count": null,
   "metadata": {},
   "outputs": [],
   "source": []
  }
 ],
 "metadata": {
  "kernelspec": {
   "display_name": "Python 3",
   "language": "python",
   "name": "python3"
  },
  "language_info": {
   "codemirror_mode": {
    "name": "ipython",
    "version": 3
   },
   "file_extension": ".py",
   "mimetype": "text/x-python",
   "name": "python",
   "nbconvert_exporter": "python",
   "pygments_lexer": "ipython3",
   "version": "3.7.4"
  }
 },
 "nbformat": 4,
 "nbformat_minor": 2
}
